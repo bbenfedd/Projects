{
 "cells": [
  {
   "cell_type": "markdown",
   "metadata": {},
   "source": [
    "# Red wine quality \n",
    "### Multiple linear regression "
   ]
  },
  {
   "cell_type": "markdown",
   "metadata": {},
   "source": [
    "### Data Set Information:\n",
    "\n",
    "The two datasets are related to red and white variants of the Portuguese \"Vinho Verde\" wine. For more details, consult: [Web Link](http://www.vinhoverde.pt/en/) or the reference [Cortez et al., 2009]. Due to privacy and logistic issues, only physicochemical (inputs) and sensory (the output) variables are available (e.g. there is no data about grape types, wine brand, wine selling price, etc.).\n",
    "\n",
    "These datasets can be viewed as classification or regression tasks. The classes are ordered and not balanced (e.g. there are many more normal wines than excellent or poor ones). Outlier detection algorithms could be used to detect the few excellent or poor wines. Also, we are not sure if all input variables are relevant. So it could be interesting to test feature selection methods.\n",
    "\n"
   ]
  },
  {
   "cell_type": "code",
   "execution_count": 10,
   "metadata": {},
   "outputs": [],
   "source": [
    "data = read.csv(\"winequality-red.csv\",header=TRUE)"
   ]
  },
  {
   "cell_type": "code",
   "execution_count": 11,
   "metadata": {},
   "outputs": [
    {
     "data": {
      "text/html": [
       "<table>\n",
       "<thead><tr><th scope=col>fixed.acidity</th><th scope=col>volatile.acidity</th><th scope=col>citric.acid</th><th scope=col>residual.sugar</th><th scope=col>chlorides</th><th scope=col>free.sulfur.dioxide</th><th scope=col>total.sulfur.dioxide</th><th scope=col>density</th><th scope=col>pH</th><th scope=col>sulphates</th><th scope=col>alcohol</th><th scope=col>quality</th></tr></thead>\n",
       "<tbody>\n",
       "\t<tr><td> 7.4  </td><td>0.70  </td><td>0.00  </td><td>1.9   </td><td>0.076 </td><td>11    </td><td>34    </td><td>0.9978</td><td>3.51  </td><td>0.56  </td><td>9.4   </td><td>5     </td></tr>\n",
       "\t<tr><td> 7.8  </td><td>0.88  </td><td>0.00  </td><td>2.6   </td><td>0.098 </td><td>25    </td><td>67    </td><td>0.9968</td><td>3.20  </td><td>0.68  </td><td>9.8   </td><td>5     </td></tr>\n",
       "\t<tr><td> 7.8  </td><td>0.76  </td><td>0.04  </td><td>2.3   </td><td>0.092 </td><td>15    </td><td>54    </td><td>0.9970</td><td>3.26  </td><td>0.65  </td><td>9.8   </td><td>5     </td></tr>\n",
       "\t<tr><td>11.2  </td><td>0.28  </td><td>0.56  </td><td>1.9   </td><td>0.075 </td><td>17    </td><td>60    </td><td>0.9980</td><td>3.16  </td><td>0.58  </td><td>9.8   </td><td>6     </td></tr>\n",
       "\t<tr><td> 7.4  </td><td>0.70  </td><td>0.00  </td><td>1.9   </td><td>0.076 </td><td>11    </td><td>34    </td><td>0.9978</td><td>3.51  </td><td>0.56  </td><td>9.4   </td><td>5     </td></tr>\n",
       "</tbody>\n",
       "</table>\n"
      ],
      "text/latex": [
       "\\begin{tabular}{r|llllllllllll}\n",
       " fixed.acidity & volatile.acidity & citric.acid & residual.sugar & chlorides & free.sulfur.dioxide & total.sulfur.dioxide & density & pH & sulphates & alcohol & quality\\\\\n",
       "\\hline\n",
       "\t  7.4   & 0.70   & 0.00   & 1.9    & 0.076  & 11     & 34     & 0.9978 & 3.51   & 0.56   & 9.4    & 5     \\\\\n",
       "\t  7.8   & 0.88   & 0.00   & 2.6    & 0.098  & 25     & 67     & 0.9968 & 3.20   & 0.68   & 9.8    & 5     \\\\\n",
       "\t  7.8   & 0.76   & 0.04   & 2.3    & 0.092  & 15     & 54     & 0.9970 & 3.26   & 0.65   & 9.8    & 5     \\\\\n",
       "\t 11.2   & 0.28   & 0.56   & 1.9    & 0.075  & 17     & 60     & 0.9980 & 3.16   & 0.58   & 9.8    & 6     \\\\\n",
       "\t  7.4   & 0.70   & 0.00   & 1.9    & 0.076  & 11     & 34     & 0.9978 & 3.51   & 0.56   & 9.4    & 5     \\\\\n",
       "\\end{tabular}\n"
      ],
      "text/markdown": [
       "\n",
       "| fixed.acidity | volatile.acidity | citric.acid | residual.sugar | chlorides | free.sulfur.dioxide | total.sulfur.dioxide | density | pH | sulphates | alcohol | quality |\n",
       "|---|---|---|---|---|---|---|---|---|---|---|---|\n",
       "|  7.4   | 0.70   | 0.00   | 1.9    | 0.076  | 11     | 34     | 0.9978 | 3.51   | 0.56   | 9.4    | 5      |\n",
       "|  7.8   | 0.88   | 0.00   | 2.6    | 0.098  | 25     | 67     | 0.9968 | 3.20   | 0.68   | 9.8    | 5      |\n",
       "|  7.8   | 0.76   | 0.04   | 2.3    | 0.092  | 15     | 54     | 0.9970 | 3.26   | 0.65   | 9.8    | 5      |\n",
       "| 11.2   | 0.28   | 0.56   | 1.9    | 0.075  | 17     | 60     | 0.9980 | 3.16   | 0.58   | 9.8    | 6      |\n",
       "|  7.4   | 0.70   | 0.00   | 1.9    | 0.076  | 11     | 34     | 0.9978 | 3.51   | 0.56   | 9.4    | 5      |\n",
       "\n"
      ],
      "text/plain": [
       "  fixed.acidity volatile.acidity citric.acid residual.sugar chlorides\n",
       "1  7.4          0.70             0.00        1.9            0.076    \n",
       "2  7.8          0.88             0.00        2.6            0.098    \n",
       "3  7.8          0.76             0.04        2.3            0.092    \n",
       "4 11.2          0.28             0.56        1.9            0.075    \n",
       "5  7.4          0.70             0.00        1.9            0.076    \n",
       "  free.sulfur.dioxide total.sulfur.dioxide density pH   sulphates alcohol\n",
       "1 11                  34                   0.9978  3.51 0.56      9.4    \n",
       "2 25                  67                   0.9968  3.20 0.68      9.8    \n",
       "3 15                  54                   0.9970  3.26 0.65      9.8    \n",
       "4 17                  60                   0.9980  3.16 0.58      9.8    \n",
       "5 11                  34                   0.9978  3.51 0.56      9.4    \n",
       "  quality\n",
       "1 5      \n",
       "2 5      \n",
       "3 5      \n",
       "4 6      \n",
       "5 5      "
      ]
     },
     "metadata": {},
     "output_type": "display_data"
    }
   ],
   "source": [
    "data[1:5,]"
   ]
  },
  {
   "cell_type": "markdown",
   "metadata": {},
   "source": [
    "# Attribute Information:\n",
    "\n",
    "For more information, read [Cortez et al., 2009].\n",
    "Input variables (based on physicochemical tests):\n",
    "\n",
    "\n",
    "<ol>\n",
    "<li>fixed acidity</li>\n",
    "<li>volatile acidity</li>\n",
    "<li>citric acid </li>\n",
    "<li>residual sugar </li>\n",
    "<li>chlorides</li>\n",
    "<li>free sulfur dioxide </li>\n",
    "<li>total sulfur dioxide</li>\n",
    "<li>density</li>\n",
    "<li>pH</li>\n",
    "<li>sulphates</li>\n",
    "<li>alcohol</li>\n",
    "    <b>Output variable (based on sensory data): </b>\n",
    "<li>quality (score between 0 and 10) </li>\n",
    "</ol>"
   ]
  },
  {
   "cell_type": "code",
   "execution_count": 12,
   "metadata": {},
   "outputs": [
    {
     "data": {
      "text/plain": [
       "   Min. 1st Qu.  Median    Mean 3rd Qu.    Max. \n",
       "  3.000   5.000   6.000   5.636   6.000   8.000 "
      ]
     },
     "metadata": {},
     "output_type": "display_data"
    }
   ],
   "source": [
    "summary(data$quality)"
   ]
  },
  {
   "cell_type": "markdown",
   "metadata": {},
   "source": [
    "<b> Statistical information about the quality variable </b>"
   ]
  },
  {
   "cell_type": "markdown",
   "metadata": {},
   "source": [
    "This is a multiple linear regression, where Y is the quality variable and $[ X_1 ... X_{11} ]$ represents the attributes respectively fixed acidity, volatile acidity and so on.\n",
    "<ul>\n",
    "    <li>Y = quality attribute</li>\n",
    "    <li>$X^{'} = [ X_1 ... X_{11} ]$ = [ fixed acidity ... alcohol] </li>\n",
    "</ul>\n",
    "\n",
    "<b>Formalized problem</b>\n",
    "\n",
    "$ y_i = \\beta_1x_1 + \\beta_2x_2 + ... \\beta x_{11}x_{11} + \\beta_0 $\n",
    "\n",
    "with matrices the problem would be like\n",
    "\n",
    "$Y = X^{'}\\beta ^{'} + \\beta_0$\n",
    "\n",
    "$ X = [X^{'} 1] $  \n",
    "$ \\beta = [\\beta {'} \\beta_0] $\n",
    "\n",
    "And the final problem is \n",
    "\n",
    "$ Y = X \\beta $\n",
    "\n",
    "<b> This a Linear least squares problem </b>\n",
    "\n",
    "Solution is \n",
    "\n",
    "$ \\beta = (X^T X)^{-1}X^T Y$\n",
    "\n",
    "\n",
    "\n",
    "\n",
    "\n"
   ]
  },
  {
   "cell_type": "code",
   "execution_count": 48,
   "metadata": {},
   "outputs": [
    {
     "data": {
      "text/html": [
       "<table>\n",
       "<tbody>\n",
       "\t<tr><th scope=row>beta1</th><td>  0.024990553</td></tr>\n",
       "\t<tr><th scope=row>beta2</th><td> -1.083590258</td></tr>\n",
       "\t<tr><th scope=row>beta3</th><td> -0.182563947</td></tr>\n",
       "\t<tr><th scope=row>beta4</th><td>  0.016331270</td></tr>\n",
       "\t<tr><th scope=row>beta5</th><td> -1.874225156</td></tr>\n",
       "\t<tr><th scope=row>beta6</th><td>  0.004361333</td></tr>\n",
       "\t<tr><th scope=row>beta7</th><td> -0.003264580</td></tr>\n",
       "\t<tr><th scope=row>beta8</th><td>-17.881163815</td></tr>\n",
       "\t<tr><th scope=row>beta9</th><td> -0.413653144</td></tr>\n",
       "\t<tr><th scope=row>beta10</th><td>  0.916334413</td></tr>\n",
       "\t<tr><th scope=row>beta11</th><td>  0.276197699</td></tr>\n",
       "\t<tr><th scope=row>beta0</th><td> 21.965208431</td></tr>\n",
       "</tbody>\n",
       "</table>\n"
      ],
      "text/latex": [
       "\\begin{tabular}{r|l}\n",
       "\tbeta1 &   0.024990553\\\\\n",
       "\tbeta2 &  -1.083590258\\\\\n",
       "\tbeta3 &  -0.182563947\\\\\n",
       "\tbeta4 &   0.016331270\\\\\n",
       "\tbeta5 &  -1.874225156\\\\\n",
       "\tbeta6 &   0.004361333\\\\\n",
       "\tbeta7 &  -0.003264580\\\\\n",
       "\tbeta8 & -17.881163815\\\\\n",
       "\tbeta9 &  -0.413653144\\\\\n",
       "\tbeta10 &   0.916334413\\\\\n",
       "\tbeta11 &   0.276197699\\\\\n",
       "\tbeta0 &  21.965208431\\\\\n",
       "\\end{tabular}\n"
      ],
      "text/markdown": [
       "\n",
       "| beta1 |   0.024990553 |\n",
       "| beta2 |  -1.083590258 |\n",
       "| beta3 |  -0.182563947 |\n",
       "| beta4 |   0.016331270 |\n",
       "| beta5 |  -1.874225156 |\n",
       "| beta6 |   0.004361333 |\n",
       "| beta7 |  -0.003264580 |\n",
       "| beta8 | -17.881163815 |\n",
       "| beta9 |  -0.413653144 |\n",
       "| beta10 |   0.916334413 |\n",
       "| beta11 |   0.276197699 |\n",
       "| beta0 |  21.965208431 |\n",
       "\n"
      ],
      "text/plain": [
       "       [,1]         \n",
       "beta1    0.024990553\n",
       "beta2   -1.083590258\n",
       "beta3   -0.182563947\n",
       "beta4    0.016331270\n",
       "beta5   -1.874225156\n",
       "beta6    0.004361333\n",
       "beta7   -0.003264580\n",
       "beta8  -17.881163815\n",
       "beta9   -0.413653144\n",
       "beta10   0.916334413\n",
       "beta11   0.276197699\n",
       "beta0   21.965208431"
      ]
     },
     "metadata": {},
     "output_type": "display_data"
    }
   ],
   "source": [
    "ones = rep(1,dim(data)[1])\n",
    "\n",
    "ones = matrix(ones,dim(data)[1],1)\n",
    "\n",
    "# Attribute vector\n",
    "X = data[-12]\n",
    "#Add ones column at the end\n",
    "X$ones <- ones\n",
    "\n",
    "#Convert a Data Frame to a Numeric Matrix\n",
    "X = data.matrix(X, rownames.force = NA)\n",
    "\n",
    "#Quality vector\n",
    "Y = data[12]\n",
    "#Convert a Data Frame to a Numeric Matrix\n",
    "Y = data.matrix(Y, rownames.force = NA)\n",
    "\n",
    "beta = solve(t(X)%*%X)%*%t(X)%*%Y\n",
    "\n",
    "#removing the row names or column names\n",
    "rownames(beta) <- c(\"beta1\",\"beta2\",\"beta3\",\"beta4\",\"beta5\",\"beta6\",\"beta7\",\"beta8\",\"beta9\",\"beta10\",\"beta11\",\"beta0\")\n",
    "colnames(beta) <-  NULL\n",
    "beta"
   ]
  },
  {
   "cell_type": "markdown",
   "metadata": {},
   "source": [
    "## Using R library\n"
   ]
  },
  {
   "cell_type": "code",
   "execution_count": 59,
   "metadata": {},
   "outputs": [
    {
     "data": {
      "text/plain": [
       "\n",
       "Call:\n",
       "lm(formula = data$quality ~ data$fixed.acidity + data$volatile.acidity + \n",
       "    data$alcohol + data$pH + data$density + data$citric.acid + \n",
       "    data$residual.sugar + data$chlorides + data$free.sulfur.dioxide + \n",
       "    data$total.sulfur.dioxide + data$sulphates, data = data)\n",
       "\n",
       "Coefficients:\n",
       "              (Intercept)         data$fixed.acidity  \n",
       "                21.965208                   0.024991  \n",
       "    data$volatile.acidity               data$alcohol  \n",
       "                -1.083590                   0.276198  \n",
       "                  data$pH               data$density  \n",
       "                -0.413653                 -17.881164  \n",
       "         data$citric.acid        data$residual.sugar  \n",
       "                -0.182564                   0.016331  \n",
       "           data$chlorides   data$free.sulfur.dioxide  \n",
       "                -1.874225                   0.004361  \n",
       "data$total.sulfur.dioxide             data$sulphates  \n",
       "                -0.003265                   0.916334  \n"
      ]
     },
     "metadata": {},
     "output_type": "display_data"
    }
   ],
   "source": [
    "model <- lm(data$quality ~ data$fixed.acidity + data$volatile.acidity + data$alcohol + data$pH + data$density + \n",
    "            data$citric.acid + data$residual.sugar + data$chlorides + data$free.sulfur.dioxide + data$total.sulfur.dioxide +\n",
    "            data$sulphates, data = data)\n",
    "model"
   ]
  },
  {
   "cell_type": "markdown",
   "metadata": {},
   "source": [
    "## Evaluation\n",
    "\n"
   ]
  },
  {
   "cell_type": "code",
   "execution_count": 55,
   "metadata": {},
   "outputs": [
    {
     "data": {
      "text/html": [
       "-1.21863480250865e-09"
      ],
      "text/latex": [
       "-1.21863480250865e-09"
      ],
      "text/markdown": [
       "-1.21863480250865e-09"
      ],
      "text/plain": [
       "[1] -1.218635e-09"
      ]
     },
     "metadata": {},
     "output_type": "display_data"
    }
   ],
   "source": [
    "Y_calcul = X%*%beta\n",
    "\n",
    "mean(Y_calcul - Y)\n"
   ]
  },
  {
   "cell_type": "markdown",
   "metadata": {},
   "source": [
    "©Copyright  \n",
    "Badr BENFEDDOUL  \n",
    "Toulouse INP - ENSEEIHT\n",
    "\n",
    "P. Cortez, A. Cerdeira, F. Almeida, T. Matos and J. Reis.  \n",
    "Modeling wine preferences by data mining from physicochemical properties. In Decision Support Systems, Elsevier, 47(4):547-553, 2009."
   ]
  }
 ],
 "metadata": {
  "kernelspec": {
   "display_name": "R",
   "language": "R",
   "name": "ir"
  },
  "language_info": {
   "codemirror_mode": "r",
   "file_extension": ".r",
   "mimetype": "text/x-r-source",
   "name": "R",
   "pygments_lexer": "r",
   "version": "3.6.1"
  }
 },
 "nbformat": 4,
 "nbformat_minor": 4
}
