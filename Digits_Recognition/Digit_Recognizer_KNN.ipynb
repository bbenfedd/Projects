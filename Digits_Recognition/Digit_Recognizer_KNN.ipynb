{
 "cells": [
  {
   "cell_type": "markdown",
   "metadata": {},
   "source": [
    "# Digit Recognition"
   ]
  },
  {
   "cell_type": "markdown",
   "metadata": {},
   "source": [
    "## K Nearest Neighbours (KNN) Classifier"
   ]
  },
  {
   "cell_type": "markdown",
   "metadata": {},
   "source": [
    "Let's supposed we have 3 classes {\"green\",\"blue\",\"orange\"}, and we have a new element {X with coordinates (35,0.6)} that we want to classify, the KNN classifier method operates as follow :\n",
    "    * First we calculate the K nearest neighbours of the element that we want to classify\n",
    "    * Then we calculate the occurence of each class of the group elements calculeted before\n",
    "    * Finally we assign the given element with the class with the heigher occurence"
   ]
  },
  {
   "cell_type": "code",
   "execution_count": 193,
   "metadata": {},
   "outputs": [
    {
     "data": {
      "image/png": "[encoded data removed]",
      "text/plain": [
       "<Figure size 936x792 with 1 Axes>"
      ]
     },
     "metadata": {
      "needs_background": "light"
     },
     "output_type": "display_data"
    }
   ],
   "source": [
    "import matplotlib.pyplot as plt\n",
    "import numpy as np\n",
    "X=np.random.rand(55)\n",
    "Y=np.random.rand(33)\n",
    "Z=np.random.rand(77)\n",
    "\n",
    "plt.figure(figsize=(13,11))\n",
    "plt.plot(X,'o')\n",
    "plt.plot(Y,'o')\n",
    "plt.plot(Z,'o')\n",
    "plt.plot(35,0.6,'X')\n",
    "plt.show()"
   ]
  },
  {
   "cell_type": "markdown",
   "metadata": {},
   "source": [
    "### importing data\n"
   ]
  },
  {
   "cell_type": "code",
   "execution_count": 194,
   "metadata": {},
   "outputs": [],
   "source": [
    "import pandas as pd\n",
    "from sklearn import datasets\n",
    "from sklearn.neighbors import KNeighborsClassifier\n",
    "from sklearn.metrics import classification_report,confusion_matrix,ConfusionMatrixDisplay\n",
    "from sklearn import metrics\n",
    "\n",
    "\n",
    "\n",
    "digits = datasets.load_digits()"
   ]
  },
  {
   "cell_type": "markdown",
   "metadata": {},
   "source": [
    "Let's supposed we have 3 classes {\"green\",\"blue\",\"orange\"}, and we have a new element {X with coordinates (35,0.6)} that we want to classify, the KNN classifier method operates as follow :\n",
    "    * First we calculate the K nearest neighbours of the element that we want to classify\n",
    "    * Then we calculate the occurence of each class of the group elements calculeted before\n",
    "    * Finally we assign the given element with the class with the heigher occurence"
   ]
  },
  {
   "cell_type": "markdown",
   "metadata": {},
   "source": [
    "### Preparing data"
   ]
  },
  {
   "cell_type": "code",
   "execution_count": 195,
   "metadata": {},
   "outputs": [],
   "source": [
    "images = digits.images\n",
    "labels = digits.target\n",
    "\n",
    "n_samples = len(images)\n",
    "images = images.reshape((n_samples, -1))\n",
    "\n",
    "\n",
    "n_train = n_samples//2 #We train the model with 50% of samples in the DataSet \n",
    "n_test = n_samples - n_train #and we validate the model with the 50% of he samples "
   ]
  },
  {
   "cell_type": "markdown",
   "metadata": {},
   "source": [
    "### Splitting Data into Train and Test"
   ]
  },
  {
   "cell_type": "code",
   "execution_count": 196,
   "metadata": {},
   "outputs": [],
   "source": [
    "X_train = images[:n_train]\n",
    "X_test = images[n_train:]\n",
    "\n",
    "Y_train = labels[:n_train]\n",
    "Y_test = labels[n_train:]"
   ]
  },
  {
   "cell_type": "markdown",
   "metadata": {},
   "source": [
    "### Creating the model"
   ]
  },
  {
   "cell_type": "code",
   "execution_count": 197,
   "metadata": {},
   "outputs": [
    {
     "data": {
      "text/plain": [
       "KNeighborsClassifier(metric='euclidean')"
      ]
     },
     "execution_count": 197,
     "metadata": {},
     "output_type": "execute_result"
    }
   ],
   "source": [
    "KNN_classifier = KNeighborsClassifier(n_neighbors=5, metric='euclidean')\n",
    "KNN_classifier.fit(X_train, Y_train)"
   ]
  },
  {
   "cell_type": "markdown",
   "metadata": {},
   "source": [
    "### Evalution"
   ]
  },
  {
   "cell_type": "code",
   "execution_count": 198,
   "metadata": {},
   "outputs": [
    {
     "name": "stdout",
     "output_type": "stream",
     "text": [
      "The accuracy of the Gaussian Naive Bayes algorithm is : \n",
      "0.9555061179087876\n"
     ]
    }
   ],
   "source": [
    "Y_predicted = KNN_classifier.predict(X_test)\n",
    "print(\"The accuracy of the Gaussian Naive Bayes algorithm is : \")\n",
    "print(KNN_classifier.score(X_test,Y_test))\n",
    "\n"
   ]
  },
  {
   "cell_type": "code",
   "execution_count": 199,
   "metadata": {},
   "outputs": [
    {
     "name": "stdout",
     "output_type": "stream",
     "text": [
      "              precision    recall  f1-score   support\n",
      "\n",
      "           0       0.99      1.00      0.99        88\n",
      "           1       0.95      0.98      0.96        91\n",
      "           2       0.98      0.93      0.95        86\n",
      "           3       0.89      0.90      0.90        91\n",
      "           4       1.00      0.95      0.97        92\n",
      "           5       0.96      0.98      0.97        91\n",
      "           6       0.99      1.00      0.99        91\n",
      "           7       0.95      1.00      0.97        89\n",
      "           8       0.95      0.90      0.92        88\n",
      "           9       0.91      0.92      0.92        92\n",
      "\n",
      "    accuracy                           0.96       899\n",
      "   macro avg       0.96      0.96      0.96       899\n",
      "weighted avg       0.96      0.96      0.96       899\n",
      "\n"
     ]
    }
   ],
   "source": [
    "print(classification_report(Y_test, Y_predicted ))"
   ]
  },
  {
   "cell_type": "markdown",
   "metadata": {},
   "source": [
    "#### Confusion Matrix"
   ]
  },
  {
   "cell_type": "code",
   "execution_count": 200,
   "metadata": {},
   "outputs": [
    {
     "data": {
      "image/png": "[encoded data removed]",
      "text/plain": [
       "<Figure size 432x288 with 2 Axes>"
      ]
     },
     "metadata": {
      "needs_background": "light"
     },
     "output_type": "display_data"
    }
   ],
   "source": [
    "\n",
    "\n",
    "confusion_matrix(Y_test, Y_predicted)\n",
    "\n",
    "confusion_matrix = confusion_matrix(Y_test, Y_predicted)\n",
    "#plt.figure(figsize=(3, 3))\n",
    "disp = ConfusionMatrixDisplay(confusion_matrix=confusion_matrix)\n",
    "\n",
    "disp.plot()\n",
    "\n",
    "plt.show()\n",
    "\n",
    "\n"
   ]
  }
 ],
 "metadata": {
  "kernelspec": {
   "display_name": "Python 3",
   "language": "python",
   "name": "python3"
  },
  "language_info": {
   "codemirror_mode": {
    "name": "ipython",
    "version": 3
   },
   "file_extension": ".py",
   "mimetype": "text/x-python",
   "name": "python",
   "nbconvert_exporter": "python",
   "pygments_lexer": "ipython3",
   "version": "3.8.3"
  }
 },
 "nbformat": 4,
 "nbformat_minor": 4
}
