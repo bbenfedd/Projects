{
 "cells": [
  {
   "cell_type": "markdown",
   "metadata": {},
   "source": [
    "# Digit Recognition"
   ]
  },
  {
   "cell_type": "markdown",
   "metadata": {},
   "source": [
    "## K Nearest Neighbours (KNN) Classifier"
   ]
  },
  {
   "cell_type": "markdown",
   "metadata": {},
   "source": [
    "Let's supposed we have 3 classes {\"green\",\"blue\",\"orange\"}, and we have a new element {X with coordinates (35,0.6)} that we want to classify, the KNN classifier method operates as follow :\n",
    "    * First we calculate the K nearest neighbours of the element that we want to classify\n",
    "    * Then we calculate the occurence of each class of the group elements calculeted before\n",
    "    * Finally we assign the given element with the class with the heigher occurence"
   ]
  },
  {
   "cell_type": "code",
   "execution_count": 1,
   "metadata": {},
   "outputs": [
    {
     "data": {
      "image/png": "[encoded data removed]",
      "text/plain": [
       "<Figure size 936x792 with 1 Axes>"
      ]
     },
     "metadata": {
      "needs_background": "light"
     },
     "output_type": "display_data"
    }
   ],
   "source": [
    "import matplotlib.pyplot as plt\n",
    "import numpy as np\n",
    "X=np.random.rand(55)\n",
    "Y=np.random.rand(33)\n",
    "Z=np.random.rand(77)\n",
    "\n",
    "plt.figure(figsize=(13,11))\n",
    "plt.plot(X,'o')\n",
    "plt.plot(Y,'o')\n",
    "plt.plot(Z,'o')\n",
    "plt.plot(35,0.6,'X')\n",
    "plt.show()"
   ]
  },
  {
   "cell_type": "markdown",
   "metadata": {},
   "source": [
    "### importing data\n"
   ]
  },
  {
   "cell_type": "code",
   "execution_count": 2,
   "metadata": {},
   "outputs": [],
   "source": [
    "import pandas as pd\n",
    "from sklearn import datasets\n",
    "from sklearn.neighbors import KNeighborsClassifier\n",
    "from sklearn.metrics import classification_report,confusion_matrix,ConfusionMatrixDisplay\n",
    "from sklearn import metrics\n",
    "\n",
    "\n",
    "\n",
    "digits = datasets.load_digits()"
   ]
  },
  {
   "cell_type": "markdown",
   "metadata": {},
   "source": [
    "Let's supposed we have 3 classes {\"green\",\"blue\",\"orange\"}, and we have a new element {X with coordinates (35,0.6)} that we want to classify, the KNN classifier method operates as follow :\n",
    "    * First we calculate the K nearest neighbours of the element that we want to classify\n",
    "    * Then we calculate the occurence of each class of the group elements calculeted before\n",
    "    * Finally we assign the given element with the class with the heigher occurence"
   ]
  },
  {
   "cell_type": "markdown",
   "metadata": {},
   "source": [
    "### Preparing data"
   ]
  },
  {
   "cell_type": "code",
   "execution_count": 3,
   "metadata": {},
   "outputs": [],
   "source": [
    "images = digits.images\n",
    "labels = digits.target\n",
    "\n",
    "n_samples = len(images)\n",
    "images = images.reshape((n_samples, -1))\n",
    "\n",
    "\n",
    "n_train = int(n_samples*0.8) #We train the model with 80% of samples in the DataSet \n",
    "n_test = n_samples - n_train #and we validate the model with the 20% of he samples "
   ]
  },
  {
   "cell_type": "markdown",
   "metadata": {},
   "source": [
    "### Splitting Data into Train and Test"
   ]
  },
  {
   "cell_type": "code",
   "execution_count": 4,
   "metadata": {},
   "outputs": [],
   "source": [
    "X_train = images[:n_train]\n",
    "X_test = images[n_train:]\n",
    "\n",
    "Y_train = labels[:n_train]\n",
    "Y_test = labels[n_train:]"
   ]
  },
  {
   "cell_type": "markdown",
   "metadata": {},
   "source": [
    "### Creating the model"
   ]
  },
  {
   "cell_type": "code",
   "execution_count": 5,
   "metadata": {},
   "outputs": [
    {
     "data": {
      "text/plain": [
       "KNeighborsClassifier(metric='euclidean')"
      ]
     },
     "execution_count": 5,
     "metadata": {},
     "output_type": "execute_result"
    }
   ],
   "source": [
    "KNN_classifier = KNeighborsClassifier(n_neighbors=5, metric='euclidean')\n",
    "KNN_classifier.fit(X_train, Y_train)"
   ]
  },
  {
   "cell_type": "markdown",
   "metadata": {},
   "source": [
    "### Evalution"
   ]
  },
  {
   "cell_type": "code",
   "execution_count": 6,
   "metadata": {},
   "outputs": [
    {
     "name": "stdout",
     "output_type": "stream",
     "text": [
      "The accuracy of the Gaussian Naive Bayes algorithm is : \n",
      "0.9638888888888889\n"
     ]
    }
   ],
   "source": [
    "Y_predicted = KNN_classifier.predict(X_test)\n",
    "print(\"The accuracy of the Gaussian Naive Bayes algorithm is : \")\n",
    "print(KNN_classifier.score(X_test,Y_test))\n",
    "\n"
   ]
  },
  {
   "cell_type": "code",
   "execution_count": 7,
   "metadata": {},
   "outputs": [
    {
     "name": "stdout",
     "output_type": "stream",
     "text": [
      "              precision    recall  f1-score   support\n",
      "\n",
      "           0       1.00      0.97      0.99        35\n",
      "           1       0.95      1.00      0.97        36\n",
      "           2       0.97      1.00      0.99        35\n",
      "           3       0.97      0.89      0.93        37\n",
      "           4       0.97      0.95      0.96        37\n",
      "           5       0.93      1.00      0.96        37\n",
      "           6       1.00      1.00      1.00        37\n",
      "           7       0.92      1.00      0.96        36\n",
      "           8       0.94      0.91      0.92        33\n",
      "           9       1.00      0.92      0.96        37\n",
      "\n",
      "    accuracy                           0.96       360\n",
      "   macro avg       0.96      0.96      0.96       360\n",
      "weighted avg       0.97      0.96      0.96       360\n",
      "\n"
     ]
    }
   ],
   "source": [
    "print(classification_report(Y_test, Y_predicted ))"
   ]
  },
  {
   "cell_type": "markdown",
   "metadata": {},
   "source": [
    "#### Confusion Matrix"
   ]
  },
  {
   "cell_type": "code",
   "execution_count": 8,
   "metadata": {},
   "outputs": [
    {
     "data": {
      "image/png": "[encoded data removed]",
      "text/plain": [
       "<Figure size 432x288 with 2 Axes>"
      ]
     },
     "metadata": {
      "needs_background": "light"
     },
     "output_type": "display_data"
    }
   ],
   "source": [
    "\n",
    "\n",
    "confusion_matrix(Y_test, Y_predicted)\n",
    "\n",
    "confusion_matrix = confusion_matrix(Y_test, Y_predicted)\n",
    "#plt.figure(figsize=(3, 3))\n",
    "disp = ConfusionMatrixDisplay(confusion_matrix=confusion_matrix)\n",
    "\n",
    "disp.plot()\n",
    "\n",
    "plt.show()\n",
    "\n",
    "\n"
   ]
  }
 ],
 "metadata": {
  "kernelspec": {
   "display_name": "Python 3",
   "language": "python",
   "name": "python3"
  },
  "language_info": {
   "codemirror_mode": {
    "name": "ipython",
    "version": 3
   },
   "file_extension": ".py",
   "mimetype": "text/x-python",
   "name": "python",
   "nbconvert_exporter": "python",
   "pygments_lexer": "ipython3",
   "version": "3.8.3"
  }
 },
 "nbformat": 4,
 "nbformat_minor": 4
}
