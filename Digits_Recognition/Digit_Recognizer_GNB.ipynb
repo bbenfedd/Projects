{
 "cells": [
  {
   "cell_type": "markdown",
   "metadata": {},
   "source": [
    "# Digit Recognition"
   ]
  },
  {
   "cell_type": "markdown",
   "metadata": {},
   "source": [
    "## Naive Bayes Classifier"
   ]
  },
  {
   "cell_type": "markdown",
   "metadata": {},
   "source": [
    "Naive bayes classifier is based on the baues theorem :  \n",
    "\n",
    "$P( C | F_1 , ... , F_n ) = \\frac{P( C )P( F_1 , ... , F_n | C )}{P( F_1 , ... , F_n )} $\n",
    "\n",
    "We suppose that the attribute variables are independent then\n",
    "\n",
    "$ P( F_1 , ... , F_n | C ) =   \\prod_{i = 1}^{n} P( F_i | C )  $\n",
    "\n",
    "$ P( F_1 , ... , F_n ) $ is independent of the class C  \n",
    "we note : $ Z = P( F_1 , ... , F_n ) = \\prod_{i = 1}^{n} P( F_i ) $  \n",
    "Then the Naive Bayes equation bacame\n",
    "\n",
    "\n",
    "$P( C | F_1 , ... , F_n ) = \\frac{P( C )\\prod_{i = 1}^{n} P( F_i | C )}{Z} $  \n",
    "\n",
    "The Naive Bayes classifier rule is\n",
    "\n",
    "X is a given sample with $ f_1 , ... , f_n $ attribute\n",
    "\n",
    "\n",
    "X belong to $ C_i $ iff  \n",
    "$ \\forall j \\neq i $ | $ P( C_i )\\prod_{i = 1}^{n} P( F_i | C_i ) > P( C_j )\\prod_{i = 1}^{n} P( F_i | C_j )$"
   ]
  },
  {
   "cell_type": "markdown",
   "metadata": {},
   "source": [
    "## Gaussian Naive Bayes using GNB_classifier in sklearn library"
   ]
  },
  {
   "cell_type": "markdown",
   "metadata": {},
   "source": [
    "### importing data\n"
   ]
  },
  {
   "cell_type": "code",
   "execution_count": 53,
   "metadata": {},
   "outputs": [],
   "source": [
    "import pandas as pd\n",
    "import numpy as np\n",
    "from sklearn import datasets\n",
    "from sklearn.naive_bayes import GaussianNB\n",
    "from sklearn.metrics import classification_report,confusion_matrix,ConfusionMatrixDisplay\n",
    "from sklearn import metrics\n",
    "import matplotlib.pyplot as plt\n",
    "\n",
    "\n",
    "digits = datasets.load_digits()"
   ]
  },
  {
   "cell_type": "markdown",
   "metadata": {},
   "source": [
    "### Preparing data"
   ]
  },
  {
   "cell_type": "code",
   "execution_count": 54,
   "metadata": {},
   "outputs": [],
   "source": [
    "images = digits.images\n",
    "labels = digits.target\n",
    "\n",
    "n_samples = len(images)\n",
    "images = images.reshape((n_samples, -1))\n",
    "\n",
    "\n",
    "n_train = n_samples//2\n",
    "n_test = n_samples - n_train"
   ]
  },
  {
   "cell_type": "markdown",
   "metadata": {},
   "source": [
    "### Splitting Data into Train and Test"
   ]
  },
  {
   "cell_type": "code",
   "execution_count": 55,
   "metadata": {},
   "outputs": [],
   "source": [
    "X_train = images[:n_train]\n",
    "X_test = images[n_train:]\n",
    "\n",
    "Y_train = labels[:n_train]\n",
    "Y_test = labels[n_train:]"
   ]
  },
  {
   "cell_type": "markdown",
   "metadata": {},
   "source": [
    "### Creating the model"
   ]
  },
  {
   "cell_type": "code",
   "execution_count": 56,
   "metadata": {},
   "outputs": [
    {
     "data": {
      "text/plain": [
       "GaussianNB()"
      ]
     },
     "execution_count": 56,
     "metadata": {},
     "output_type": "execute_result"
    }
   ],
   "source": [
    "GNB_model = GaussianNB()\n",
    "GNB_model.fit(X_train, Y_train)"
   ]
  },
  {
   "cell_type": "markdown",
   "metadata": {},
   "source": [
    "### Evalution"
   ]
  },
  {
   "cell_type": "code",
   "execution_count": 57,
   "metadata": {},
   "outputs": [
    {
     "name": "stdout",
     "output_type": "stream",
     "text": [
      "The accuracy of the Gaussian Naive Bayes algorithm is : \n",
      "0.8075639599555061\n"
     ]
    }
   ],
   "source": [
    "Y_predicted = GNB_model.predict(X_test)\n",
    "print(\"The accuracy of the Gaussian Naive Bayes algorithm is : \")\n",
    "print(GNB_model.score(X_test,Y_test))\n",
    "\n"
   ]
  },
  {
   "cell_type": "code",
   "execution_count": 58,
   "metadata": {},
   "outputs": [
    {
     "name": "stdout",
     "output_type": "stream",
     "text": [
      "              precision    recall  f1-score   support\n",
      "\n",
      "           0       0.98      0.95      0.97        88\n",
      "           1       0.81      0.74      0.77        91\n",
      "           2       0.87      0.84      0.85        86\n",
      "           3       0.88      0.79      0.83        91\n",
      "           4       1.00      0.73      0.84        92\n",
      "           5       0.70      0.81      0.76        91\n",
      "           6       0.96      0.99      0.97        91\n",
      "           7       0.65      0.81      0.72        89\n",
      "           8       0.61      0.76      0.68        88\n",
      "           9       0.77      0.66      0.71        92\n",
      "\n",
      "    accuracy                           0.81       899\n",
      "   macro avg       0.82      0.81      0.81       899\n",
      "weighted avg       0.82      0.81      0.81       899\n",
      "\n"
     ]
    }
   ],
   "source": [
    "print(classification_report(Y_test, Y_predicted ))"
   ]
  },
  {
   "cell_type": "markdown",
   "metadata": {},
   "source": [
    "#### Confusion Matrix"
   ]
  },
  {
   "cell_type": "code",
   "execution_count": 59,
   "metadata": {},
   "outputs": [
    {
     "data": {
      "image/png": "[encoded data removed]",
      "text/plain": [
       "<Figure size 432x288 with 2 Axes>"
      ]
     },
     "metadata": {
      "needs_background": "light"
     },
     "output_type": "display_data"
    }
   ],
   "source": [
    "\n",
    "\n",
    "confusion_matrix(Y_test, Y_predicted)\n",
    "\n",
    "confusion_matrix = confusion_matrix(Y_test, Y_predicted)\n",
    "#plt.figure(figsize=(3, 3))\n",
    "disp = ConfusionMatrixDisplay(confusion_matrix=confusion_matrix)\n",
    "disp.\n",
    "disp.plot()\n",
    "plt.show()\n",
    "\n",
    "\n"
   ]
  },
  {
   "cell_type": "code",
   "execution_count": null,
   "metadata": {},
   "outputs": [],
   "source": []
  },
  {
   "cell_type": "code",
   "execution_count": null,
   "metadata": {},
   "outputs": [],
   "source": []
  },
  {
   "cell_type": "code",
   "execution_count": null,
   "metadata": {},
   "outputs": [],
   "source": []
  },
  {
   "cell_type": "code",
   "execution_count": null,
   "metadata": {},
   "outputs": [],
   "source": []
  },
  {
   "cell_type": "code",
   "execution_count": null,
   "metadata": {},
   "outputs": [],
   "source": []
  }
 ],
 "metadata": {
  "kernelspec": {
   "display_name": "Python 3",
   "language": "python",
   "name": "python3"
  },
  "language_info": {
   "codemirror_mode": {
    "name": "ipython",
    "version": 3
   },
   "file_extension": ".py",
   "mimetype": "text/x-python",
   "name": "python",
   "nbconvert_exporter": "python",
   "pygments_lexer": "ipython3",
   "version": "3.8.3"
  }
 },
 "nbformat": 4,
 "nbformat_minor": 4
}
